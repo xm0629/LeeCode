{
 "cells": [
  {
   "cell_type": "markdown",
   "metadata": {},
   "source": [
    "给出一个 32 位的有符号整数, 你需要将这个整数中每位上的数字进行反转."
   ]
  },
  {
   "cell_type": "code",
   "execution_count": 11,
   "metadata": {},
   "outputs": [],
   "source": [
    "class Solution(object):\n",
    "    def reverse(self, x):\n",
    "        \"\"\"\n",
    "        :type x: int\n",
    "        :rtype: int\n",
    "        \"\"\"\n",
    "        \n",
    "        # 首先判断是否为个位数,　是个位数则不需要反转.\n",
    "        \n",
    "        if -10 < x< 10:\n",
    "            return x\n",
    "        # 把整数 x 转为字符串\n",
    "        str_x = str(x)\n",
    "        \n",
    "        # 判断第一个是否为负数.\n",
    "        \n",
    "        if str_x[0] != '-':\n",
    "            # 不是负号直接反转\n",
    "            str_x = str_x[::-1]\n",
    "            # str 转为 int\n",
    "            x = int(str_x)\n",
    "        else:\n",
    "            # 是负号,　则反转负号之后的字符串.\n",
    "            str_x = str_x[1:][::-1]\n",
    "            # str 转为 int\n",
    "            x = int(str_x)\n",
    "            # 加上 负号\n",
    "            x = -x\n",
    "        # 三目运算符, 判断是否溢出\n",
    "        return x if -2147483648 < x < 2147483647 else 0"
   ]
  },
  {
   "cell_type": "code",
   "execution_count": 13,
   "metadata": {},
   "outputs": [
    {
     "name": "stdout",
     "output_type": "stream",
     "text": [
      "-1\n"
     ]
    }
   ],
   "source": [
    "if __name__ == '__main__':\n",
    "    s = Solution()\n",
    "    reverse_int = s.reverse(-100)\n",
    "    print(reverse_int)"
   ]
  },
  {
   "cell_type": "code",
   "execution_count": null,
   "metadata": {},
   "outputs": [],
   "source": []
  }
 ],
 "metadata": {
  "kernelspec": {
   "display_name": "Python 3",
   "language": "python",
   "name": "python3"
  },
  "language_info": {
   "codemirror_mode": {
    "name": "ipython",
    "version": 3
   },
   "file_extension": ".py",
   "mimetype": "text/x-python",
   "name": "python",
   "nbconvert_exporter": "python",
   "pygments_lexer": "ipython3",
   "version": "3.6.7"
  }
 },
 "nbformat": 4,
 "nbformat_minor": 2
}
