{
 "cells": [
  {
   "cell_type": "markdown",
   "metadata": {},
   "source": [
    "### 移除元素\n",
    "\n",
    "题目描述\n",
    "给定一个数组,　nums 和一个值 val, 需要原地移除所有数值等于 val 的元素,　返回移除后新的数组长度, 不使用额外的数组空间, 你必须在原地修改输入数组并且使用 O(1) 额外空间条件完成,　元素顺序可以改变,　你不需要考虑数组中超出新长度后的元素."
   ]
  },
  {
   "cell_type": "code",
   "execution_count": 3,
   "metadata": {},
   "outputs": [],
   "source": [
    "import numpy as np"
   ]
  },
  {
   "cell_type": "code",
   "execution_count": 27,
   "metadata": {},
   "outputs": [
    {
     "name": "stdout",
     "output_type": "stream",
     "text": [
      "[2, 2]\n"
     ]
    }
   ],
   "source": [
    "class Solution(object):\n",
    "    def __init__(self,nums,val):\n",
    "        self.nums = nums\n",
    "        self.val = val\n",
    "        \n",
    "    def removeElement(self):\n",
    "        \n",
    "        nums = self.nums\n",
    "        val = self.val\n",
    "        \n",
    "        length = len(nums)\n",
    "        for i in range(length-1, -1, -1):\n",
    "            if nums[i] == val:\n",
    "                nums.pop(i)\n",
    "        return nums\n",
    "    \n",
    "if __name__ == '__main__':\n",
    "    nums = list([3,2,2,3])\n",
    "    val = 3\n",
    "    \n",
    "    test =  Solution(nums,val)\n",
    "    new_list = test.removeElement()\n",
    "    print(new_list)"
   ]
  },
  {
   "cell_type": "code",
   "execution_count": 29,
   "metadata": {},
   "outputs": [
    {
     "name": "stdout",
     "output_type": "stream",
     "text": [
      "[3, 2, 3]\n"
     ]
    }
   ],
   "source": [
    "class Solution1(object):\n",
    "    def __init__(self, nums, index):\n",
    "        self.nums = nums\n",
    "        self.index = index\n",
    "    \n",
    "    def removeElement1(self):\n",
    "        nums = self.nums\n",
    "        index = self.index\n",
    "        \n",
    "        length = len(nums)\n",
    "        \n",
    "        if index > length:\n",
    "            return nums\n",
    "        elif index < 0:\n",
    "            return nums\n",
    "        else:\n",
    "            nums.pop(index)\n",
    "            return nums\n",
    "        \n",
    "if __name__ == \"__main__\":\n",
    "    nums =  nums = [3,2,2,3]\n",
    "    index = 2\n",
    "    test = Solution1(nums,index)\n",
    "    new_list = test.removeElement1()\n",
    "    print(new_list)\n"
   ]
  },
  {
   "cell_type": "code",
   "execution_count": null,
   "metadata": {},
   "outputs": [],
   "source": []
  }
 ],
 "metadata": {
  "kernelspec": {
   "display_name": "Python 3",
   "language": "python",
   "name": "python3"
  },
  "language_info": {
   "codemirror_mode": {
    "name": "ipython",
    "version": 3
   },
   "file_extension": ".py",
   "mimetype": "text/x-python",
   "name": "python",
   "nbconvert_exporter": "python",
   "pygments_lexer": "ipython3",
   "version": "3.6.7"
  }
 },
 "nbformat": 4,
 "nbformat_minor": 2
}
