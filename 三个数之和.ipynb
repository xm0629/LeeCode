{
 "cells": [
  {
   "cell_type": "markdown",
   "metadata": {},
   "source": [
    "### 题目描述\n",
    "\n",
    "给定一个包含 n 个整数的数组 nums，判断 nums 中是否存在三个元素 a，b，c ，使得 a + b + c = 0 ？找出所有满足条件且不重复的三元组。"
   ]
  },
  {
   "cell_type": "code",
   "execution_count": 1,
   "metadata": {},
   "outputs": [
    {
     "name": "stdout",
     "output_type": "stream",
     "text": [
      "[[-1, -1, 2], [-1, 0, 1]]\n"
     ]
    }
   ],
   "source": [
    "class Solution(object):\n",
    "    def threeSum(self, nums):\n",
    "        \"\"\"\n",
    "        :type nums: List[int]\n",
    "        :rtype: List[List[int]]\n",
    "        \"\"\"\n",
    "        # 存储结果列表\n",
    "        res_list = []\n",
    "        # 对nums列表进行排序，无返回值，排序直接改变nums顺序\n",
    "        nums.sort()\n",
    "        for i in range(len(nums)):\n",
    "            # 如果排序后第一个数都大于0，则跳出循环，不可能有为0的三数之和\n",
    "            if nums[i] > 0:\n",
    "                break\n",
    "            # 排序后相邻两数如果相等，则跳出当前循环继续下一次循环，相同的数只需要计算一次\n",
    "            if i > 0 and nums[i] == nums[i-1]:\n",
    "                continue\n",
    "            # 记录i的下一个位置\n",
    "            j = i + 1\n",
    "            # 最后一个元素的位置\n",
    "            k = len(nums) - 1\n",
    "            while j < k:\n",
    "                # 判断三数之和是否为0\n",
    "                if nums[j] + nums[k] == -nums[i]:\n",
    "                    # 把结果加入数组中\n",
    "                    res_list.append([nums[i], nums[j], nums[k]])\n",
    "                    # 判断j相邻元素是否相等，有的话跳过这个\n",
    "                    while j < k and nums[j] == nums[j+1]: j += 1\n",
    "                    # 判断后面k的相邻元素是否相等，是的话跳过\n",
    "                    while j < k and nums[k] == nums[k-1]: k -= 1\n",
    "                    # 没有相等则j+1，k-1，缩小范围\n",
    "                    j += 1\n",
    "                    k -= 1\n",
    "                # 小于-nums[i]的话还能往后取\n",
    "                elif nums[j] + nums[k] < -nums[i]:\n",
    "                    j += 1\n",
    "                else:\n",
    "                    k -= 1\n",
    "        return res_list\n",
    "\n",
    "\n",
    "if __name__ == '__main__':\n",
    "    s = Solution()\n",
    "    result_list = s.threeSum([-1, 0, 1, 2, -1, -4])\n",
    "    print(result_list)\n"
   ]
  }
 ],
 "metadata": {
  "kernelspec": {
   "display_name": "Python 3",
   "language": "python",
   "name": "python3"
  },
  "language_info": {
   "codemirror_mode": {
    "name": "ipython",
    "version": 3
   },
   "file_extension": ".py",
   "mimetype": "text/x-python",
   "name": "python",
   "nbconvert_exporter": "python",
   "pygments_lexer": "ipython3",
   "version": "3.6.7"
  }
 },
 "nbformat": 4,
 "nbformat_minor": 2
}
