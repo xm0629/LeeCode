{
 "cells": [
  {
   "cell_type": "code",
   "execution_count": 3,
   "metadata": {},
   "outputs": [],
   "source": [
    "import re\n",
    "# 导入正则化 re"
   ]
  },
  {
   "cell_type": "code",
   "execution_count": 10,
   "metadata": {},
   "outputs": [],
   "source": [
    "class Soultion(object):\n",
    "    def myAtoi(self, str):\n",
    "        \"\"\"\n",
    "        :type str: str\n",
    "        :rtype int\n",
    "        \"\"\"\n",
    "        # 字符串中查找全部符合条件的整数，返回的是列表，第一个参数是正则，第二个参数是字符串\n",
    "        # strip()字符串去空格\n",
    "        \n",
    "        ret = re.findall(r\"^[-+]?\\d+\", str.strip())\n",
    "        # 判断是否有匹配的值，没有的话返回0，例如\"word values 987\"，匹配不到，返回0\n",
    "        if ret:\n",
    "            ret_str = ret[0]  # 匹配的数字的字符串\n",
    "            ret_str2 = \"\"  # 记录去符号的字符串，ret_str后面还要使用，所以定义一个新的变量记录\n",
    "            # 判断是否带有符号 + or -\n",
    "            if ret_str[0] == \"-\" or ret_str[0] == \"+\":\n",
    "                ret_str2 = ret_str[1:]\n",
    "            else:\n",
    "                ret_str2 = ret_str\n",
    "            # str转int\n",
    "            ret_int = int(ret_str2)\n",
    "            # 判断第一个字符是否为负号\n",
    "            if ret_str[0] == \"-\":\n",
    "                # 三目运算符，判断是否溢出\n",
    "                # 如果ret_int <= 2**31则返回-ret_int，否则返回-2**31\n",
    "                return -ret_int if ret_int <= 2**31 else -2**31\n",
    "            else:\n",
    "                return ret_int if ret_int < 2**31 else 2**31-1\n",
    "        else:\n",
    "            return 0"
   ]
  },
  {
   "cell_type": "code",
   "execution_count": 11,
   "metadata": {},
   "outputs": [
    {
     "name": "stdout",
     "output_type": "stream",
     "text": [
      "0\n"
     ]
    }
   ],
   "source": [
    "if __name__ == '__main__':\n",
    "    s = Soultion()\n",
    "    myAtoi = s.myAtoi(\"word values 987\")\n",
    "    print(myAtoi)"
   ]
  },
  {
   "cell_type": "code",
   "execution_count": null,
   "metadata": {},
   "outputs": [],
   "source": [
    "if __name__ == '__main__':\n",
    "    s = Soultion()\n",
    "    myAtoi = s.myAtoi(\"word values 987\")\n",
    "    print(myAtoi)"
   ]
  }
 ],
 "metadata": {
  "kernelspec": {
   "display_name": "Python 3",
   "language": "python",
   "name": "python3"
  },
  "language_info": {
   "codemirror_mode": {
    "name": "ipython",
    "version": 3
   },
   "file_extension": ".py",
   "mimetype": "text/x-python",
   "name": "python",
   "nbconvert_exporter": "python",
   "pygments_lexer": "ipython3",
   "version": "3.6.7"
  }
 },
 "nbformat": 4,
 "nbformat_minor": 2
}
