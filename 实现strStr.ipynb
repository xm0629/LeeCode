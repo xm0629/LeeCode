{
 "cells": [
  {
   "cell_type": "markdown",
   "metadata": {},
   "source": [
    "### 实现 strStr 函数"
   ]
  },
  {
   "cell_type": "markdown",
   "metadata": {},
   "source": [
    "给定一个haystack字符 和一个　needle 字符串, haystack 字符串中找出 needle 字符串出现的第一个位置 (从0开始)。如果不存在，则返回  -1。"
   ]
  },
  {
   "cell_type": "code",
   "execution_count": null,
   "metadata": {},
   "outputs": [],
   "source": [
    "class Solution(object):\n",
    "    def __init__(self, haystack,needle):\n",
    "        self.haystack = haystack\n",
    "        self.needle = needle\n",
    "        \n",
    "        \n",
    "    def strStr(self):\n",
    "        haystack = self.haystack\n",
    "        needle = self.needle\n",
    "        \n",
    "        \n",
    "        if not needle:\n",
    "            return 0\n",
    "        l1 = len(haystack)\n",
    "        l2 = len(needle)\n",
    "        if l1 < l2:\n",
    "            return -1\n",
    "        \n",
    "        l = l1 - l2 + 1\n",
    "        for i in range(l):\n",
    "            if haystack[i:i+l2] == needle:\n",
    "                return i\n",
    "        return -1\n",
    "        \n",
    "if __name__ == '__main__':\n",
    "    haystack = \"aaaaa\"\n",
    "    needle = \"bba\"\n",
    "    test = Solution(haystack,needle)\n",
    "    str_index = test.strStr()\n",
    "    print(str_index)"
   ]
  }
 ],
 "metadata": {
  "kernelspec": {
   "display_name": "Python 3",
   "language": "python",
   "name": "python3"
  },
  "language_info": {
   "codemirror_mode": {
    "name": "ipython",
    "version": 3
   },
   "file_extension": ".py",
   "mimetype": "text/x-python",
   "name": "python",
   "nbconvert_exporter": "python",
   "pygments_lexer": "ipython3",
   "version": "3.6.7"
  }
 },
 "nbformat": 4,
 "nbformat_minor": 2
}
