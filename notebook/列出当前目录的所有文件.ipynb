{
 "cells": [
  {
   "cell_type": "markdown",
   "metadata": {},
   "source": [
    "### 列出当前目录下的所有文件和目录"
   ]
  },
  {
   "cell_type": "code",
   "execution_count": 1,
   "metadata": {},
   "outputs": [],
   "source": [
    "import os"
   ]
  },
  {
   "cell_type": "code",
   "execution_count": 2,
   "metadata": {},
   "outputs": [
    {
     "data": {
      "text/plain": [
       "['三个数之和.ipynb',\n",
       " '杨辉三角.ipynb',\n",
       " 'LeeCode.ipynb',\n",
       " '最后一个单词长度.ipynb',\n",
       " '数据结构中的树存储结构.ipynb',\n",
       " 'distance_strs.ipynb',\n",
       " 'figures',\n",
       " '.ipynb_checkpoints',\n",
       " 'Sqrt平方根.ipynb',\n",
       " '整数反转.ipynb',\n",
       " '冒泡排序.ipynb',\n",
       " '计算平方累加和.ipynb',\n",
       " '字符串转换整数.ipynb',\n",
       " '报数.ipynb',\n",
       " '实现strStr.ipynb',\n",
       " '列出当前目录的所有文件.ipynb',\n",
       " '二叉树.ipynb',\n",
       " 'x的 n 次方.ipynb',\n",
       " '移除元素.ipynb',\n",
       " '插入排序算法.ipynb',\n",
       " 'code',\n",
       " 'README.md',\n",
       " '.git']"
      ]
     },
     "execution_count": 2,
     "metadata": {},
     "output_type": "execute_result"
    }
   ],
   "source": [
    "[d for d in os.listdir('.')]"
   ]
  },
  {
   "cell_type": "code",
   "execution_count": null,
   "metadata": {},
   "outputs": [],
   "source": []
  }
 ],
 "metadata": {
  "kernelspec": {
   "display_name": "Python 3",
   "language": "python",
   "name": "python3"
  },
  "language_info": {
   "codemirror_mode": {
    "name": "ipython",
    "version": 3
   },
   "file_extension": ".py",
   "mimetype": "text/x-python",
   "name": "python",
   "nbconvert_exporter": "python",
   "pygments_lexer": "ipython3",
   "version": "3.6.7"
  }
 },
 "nbformat": 4,
 "nbformat_minor": 2
}
