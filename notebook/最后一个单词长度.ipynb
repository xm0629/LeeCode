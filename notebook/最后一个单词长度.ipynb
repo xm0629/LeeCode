{
 "cells": [
  {
   "cell_type": "markdown",
   "metadata": {},
   "source": [
    "### 最后一个单词的长度"
   ]
  },
  {
   "cell_type": "markdown",
   "metadata": {},
   "source": [
    "给定一个仅包含大小写字母和空格, '' 的字符, 返回最后一个单词的长度. 如果不存在最后一个单词, 请返回 0."
   ]
  },
  {
   "cell_type": "code",
   "execution_count": 13,
   "metadata": {},
   "outputs": [],
   "source": [
    "import sys\n",
    "import numpy as np\n",
    "\n",
    "class Solution(object):\n",
    "    def __init__(self, str):\n",
    "        self.str = str\n",
    "        \n",
    "    def length0fLastWord(self):\n",
    "        \n",
    "        str = self.str\n",
    "        length = len(str)\n",
    "        if length < 0:\n",
    "            return 0\n",
    "        \n",
    "        str = str.split()[-1]\n",
    "        return str"
   ]
  },
  {
   "cell_type": "code",
   "execution_count": 14,
   "metadata": {},
   "outputs": [
    {
     "name": "stdout",
     "output_type": "stream",
     "text": [
      "World\n"
     ]
    }
   ],
   "source": [
    "if __name__ == \"__main__\":\n",
    "    str = \"Hello World\"\n",
    "    test = Solution(str)\n",
    "\n",
    "    print(test.length0fLastWord())"
   ]
  },
  {
   "cell_type": "code",
   "execution_count": null,
   "metadata": {},
   "outputs": [],
   "source": []
  }
 ],
 "metadata": {
  "kernelspec": {
   "display_name": "Python 3",
   "language": "python",
   "name": "python3"
  },
  "language_info": {
   "codemirror_mode": {
    "name": "ipython",
    "version": 3
   },
   "file_extension": ".py",
   "mimetype": "text/x-python",
   "name": "python",
   "nbconvert_exporter": "python",
   "pygments_lexer": "ipython3",
   "version": "3.6.7"
  }
 },
 "nbformat": 4,
 "nbformat_minor": 2
}
