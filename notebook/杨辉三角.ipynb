{
 "cells": [
  {
   "cell_type": "code",
   "execution_count": 20,
   "metadata": {},
   "outputs": [],
   "source": [
    "class YangHui(object):\n",
    "    def __init__(self, numRows):\n",
    "        self.numRows = numRows\n",
    "        \n",
    "    def generate1(self):\n",
    "        if self.numRows == 0:\n",
    "            return []\n",
    "        if self.numRows == 1:\n",
    "            return [1]\n",
    "        if self.numRows == 2:\n",
    "            return [[1],[1, 1]]\n",
    "        self.numRows = self.numRows -2\n",
    "        rList = [[1],[1, 1]]\n",
    "        while self.numRows > 0:\n",
    "            newList = [1]\n",
    "            for i in range(len(rList[-1])-1):\n",
    "                newList.append(rList[-1][i]+rList[-1][i+1])\n",
    "            newList.append(1)\n",
    "            rList.append(newList)\n",
    "            self.numRows = self.numRows -1\n",
    "        return rList\n",
    "    \n",
    "    def generate2(self):\n",
    "        l1 = [1]\n",
    "        l2 = []\n",
    "        n = 0\n",
    "        while n<self.numRows:\n",
    "            l2.append(l1)\n",
    "            l1 = [sum(t) for t in zip([0]+l1, l1+[0])]\n",
    "            n += 1\n",
    "        return l2\n",
    "    \n",
    "    def generate3(self, numRows):\n",
    "        if self.numRows==0:\n",
    "            return []\n",
    "        l1 = [[1]]\n",
    "        n = 1\n",
    "        while n<self.numRows:\n",
    "            l1.append(map(lambda x,y:x+y, [0]+l1[-1], l1[-1]+[0]))\n",
    "            n += 1"
   ]
  },
  {
   "cell_type": "code",
   "execution_count": 26,
   "metadata": {},
   "outputs": [],
   "source": [
    "test = YangHui(7)"
   ]
  },
  {
   "cell_type": "code",
   "execution_count": 22,
   "metadata": {},
   "outputs": [
    {
     "data": {
      "text/plain": [
       "[[1],\n",
       " [1, 1],\n",
       " [1, 2, 1],\n",
       " [1, 3, 3, 1],\n",
       " [1, 4, 6, 4, 1],\n",
       " [1, 5, 10, 10, 5, 1],\n",
       " [1, 6, 15, 20, 15, 6, 1]]"
      ]
     },
     "execution_count": 22,
     "metadata": {},
     "output_type": "execute_result"
    }
   ],
   "source": [
    "test.generate1()"
   ]
  },
  {
   "cell_type": "code",
   "execution_count": 27,
   "metadata": {},
   "outputs": [
    {
     "data": {
      "text/plain": [
       "[[1],\n",
       " [1, 1],\n",
       " [1, 2, 1],\n",
       " [1, 3, 3, 1],\n",
       " [1, 4, 6, 4, 1],\n",
       " [1, 5, 10, 10, 5, 1],\n",
       " [1, 6, 15, 20, 15, 6, 1]]"
      ]
     },
     "execution_count": 27,
     "metadata": {},
     "output_type": "execute_result"
    }
   ],
   "source": [
    "test.generate2()"
   ]
  },
  {
   "cell_type": "code",
   "execution_count": 28,
   "metadata": {},
   "outputs": [
    {
     "data": {
      "text/plain": [
       "[[1],\n",
       " [1, 1],\n",
       " [1, 2, 1],\n",
       " [1, 3, 3, 1],\n",
       " [1, 4, 6, 4, 1],\n",
       " [1, 5, 10, 10, 5, 1],\n",
       " [1, 6, 15, 20, 15, 6, 1]]"
      ]
     },
     "execution_count": 28,
     "metadata": {},
     "output_type": "execute_result"
    }
   ],
   "source": [
    "test.generate2()"
   ]
  },
  {
   "cell_type": "code",
   "execution_count": null,
   "metadata": {},
   "outputs": [],
   "source": [
    "# zip \n",
    "# mip \n",
    "\n"
   ]
  }
 ],
 "metadata": {
  "kernelspec": {
   "display_name": "Python 3",
   "language": "python",
   "name": "python3"
  },
  "language_info": {
   "codemirror_mode": {
    "name": "ipython",
    "version": 3
   },
   "file_extension": ".py",
   "mimetype": "text/x-python",
   "name": "python",
   "nbconvert_exporter": "python",
   "pygments_lexer": "ipython3",
   "version": "3.6.6"
  }
 },
 "nbformat": 4,
 "nbformat_minor": 2
}
