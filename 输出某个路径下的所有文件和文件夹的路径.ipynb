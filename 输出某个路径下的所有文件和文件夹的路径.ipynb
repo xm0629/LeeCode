{
 "cells": [
  {
   "cell_type": "markdown",
   "metadata": {},
   "source": [
    "### 输出某个路径下的所有文件和文件夹路径"
   ]
  },
  {
   "cell_type": "code",
   "execution_count": 1,
   "metadata": {},
   "outputs": [],
   "source": [
    "import os\n",
    "import numpy as np"
   ]
  },
  {
   "cell_type": "code",
   "execution_count": 3,
   "metadata": {},
   "outputs": [],
   "source": [
    "def print_dir():\n",
    "    filepath = input('请输入一个路径:')\n",
    "    if filepath == '':\n",
    "        print(\"请输入正确路径\")\n",
    "    else:\n",
    "        for i in os.listdir(filepath):      # \n",
    "            print(os.path.join(filepath,i)) # 把路径组合起来\n"
   ]
  },
  {
   "cell_type": "code",
   "execution_count": 4,
   "metadata": {},
   "outputs": [
    {
     "name": "stdout",
     "output_type": "stream",
     "text": [
      "请输入一个路径:/home/xm/Program/LeeCode\n",
      "/home/xm/Program/LeeCode/三个数之和.ipynb\n",
      "/home/xm/Program/LeeCode/杨辉三角.ipynb\n",
      "/home/xm/Program/LeeCode/LeeCode.ipynb\n",
      "/home/xm/Program/LeeCode/最后一个单词长度.ipynb\n",
      "/home/xm/Program/LeeCode/数据结构中的树存储结构.ipynb\n",
      "/home/xm/Program/LeeCode/distance_strs.ipynb\n",
      "/home/xm/Program/LeeCode/figures\n",
      "/home/xm/Program/LeeCode/.ipynb_checkpoints\n",
      "/home/xm/Program/LeeCode/Sqrt平方根.ipynb\n",
      "/home/xm/Program/LeeCode/整数反转.ipynb\n",
      "/home/xm/Program/LeeCode/冒泡排序.ipynb\n",
      "/home/xm/Program/LeeCode/计算平方累加和.ipynb\n",
      "/home/xm/Program/LeeCode/字符串转换整数.ipynb\n",
      "/home/xm/Program/LeeCode/把一个 list  中的所有字符串变为小写.ipynb\n",
      "/home/xm/Program/LeeCode/报数.ipynb\n",
      "/home/xm/Program/LeeCode/实现strStr.ipynb\n",
      "/home/xm/Program/LeeCode/列出当前目录的所有文件.ipynb\n",
      "/home/xm/Program/LeeCode/二叉树.ipynb\n",
      "/home/xm/Program/LeeCode/输出某个路径及其子目录下的所有文件夹和路径.ipynb\n",
      "/home/xm/Program/LeeCode/x的 n 次方.ipynb\n",
      "/home/xm/Program/LeeCode/移除元素.ipynb\n",
      "/home/xm/Program/LeeCode/插入排序算法.ipynb\n",
      "/home/xm/Program/LeeCode/code\n",
      "/home/xm/Program/LeeCode/README.md\n",
      "/home/xm/Program/LeeCode/.git\n"
     ]
    }
   ],
   "source": [
    "test =  print_dir()"
   ]
  },
  {
   "cell_type": "code",
   "execution_count": null,
   "metadata": {},
   "outputs": [],
   "source": []
  }
 ],
 "metadata": {
  "kernelspec": {
   "display_name": "Python 3",
   "language": "python",
   "name": "python3"
  },
  "language_info": {
   "codemirror_mode": {
    "name": "ipython",
    "version": 3
   },
   "file_extension": ".py",
   "mimetype": "text/x-python",
   "name": "python",
   "nbconvert_exporter": "python",
   "pygments_lexer": "ipython3",
   "version": "3.6.7"
  }
 },
 "nbformat": 4,
 "nbformat_minor": 2
}
