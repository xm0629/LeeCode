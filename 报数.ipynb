{
 "cells": [
  {
   "cell_type": "code",
   "execution_count": 5,
   "metadata": {},
   "outputs": [
    {
     "name": "stdout",
     "output_type": "stream",
     "text": [
      "13211311123113112211\n"
     ]
    }
   ],
   "source": [
    "\n",
    "def countAndSay(n):\n",
    "    \"\"\"\n",
    "    :type n: int\n",
    "    :rtype: str\n",
    "    \"\"\"\n",
    "    if not n : return False\n",
    "    if n < 1:return False\n",
    "    if n == 1: return '1'\n",
    "    if n == 2: return '11'\n",
    "\n",
    "    start = '11' \n",
    "    for i in range(3,n+1):  #从第3次开始循环至数字n-1结束\n",
    "        tmp = ''            \n",
    "        index = 0           \n",
    "        for i in range(len(start)-1):   #循环到 start字符串长度减一结束，防止下标溢出\n",
    "            if start[i] == start[i+1]:\n",
    "                index += 1               \n",
    "            else:\n",
    "                index +=1               \n",
    "                tmp += str(index)+start[i]  #str(index) ==1 ，start[i] 当前数值\n",
    "                index = 0                 #index 归零\n",
    "\n",
    "        index +=1\n",
    "        tmp += str(index) + start[i+1]  #根据前面的index来判断最后一位是否和前一位相等，相等就加index+1，不等就是0+1，然后加上上一次循环字符串的最后一位\n",
    "        start = tmp          #内循环结束后，为下次循环的start赋值\n",
    "    return tmp\n",
    "    \n",
    "if __name__ == '__main__':\n",
    "    test = countAndSay(10)\n",
    "    print(test)"
   ]
  },
  {
   "cell_type": "code",
   "execution_count": null,
   "metadata": {},
   "outputs": [],
   "source": []
  }
 ],
 "metadata": {
  "kernelspec": {
   "display_name": "Python 3",
   "language": "python",
   "name": "python3"
  },
  "language_info": {
   "codemirror_mode": {
    "name": "ipython",
    "version": 3
   },
   "file_extension": ".py",
   "mimetype": "text/x-python",
   "name": "python",
   "nbconvert_exporter": "python",
   "pygments_lexer": "ipython3",
   "version": "3.6.7"
  }
 },
 "nbformat": 4,
 "nbformat_minor": 2
}
