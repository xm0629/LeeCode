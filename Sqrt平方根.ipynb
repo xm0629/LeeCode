{
 "cells": [
  {
   "cell_type": "markdown",
   "metadata": {},
   "source": [
    "###  x 的平方根"
   ]
  },
  {
   "cell_type": "markdown",
   "metadata": {},
   "source": [
    "题目描述\n",
    "\n",
    "实现 int sqrt(int x) 函数\n",
    "\n",
    "计算返回 x  的平方根. 其中 x 是非负的整数, 由于返回类型是整数, 结果保留整数部分, 小数部分省略."
   ]
  },
  {
   "cell_type": "code",
   "execution_count": 14,
   "metadata": {},
   "outputs": [],
   "source": [
    "class Solution(object):\n",
    "    def __init__(self, x):\n",
    "        self.x =  x\n",
    "        \n",
    "    def my_sqrt1(self):\n",
    "        # 直接使用 sqrt() 函数\n",
    "        x = self.x\n",
    "        \n",
    "        if x < 0:\n",
    "            print('请输入非负的整数:')\n",
    "            return False\n",
    "        \n",
    "        return int(x**0.5) \n",
    "    \n",
    "    def my_sqrt2(self):\n",
    "        # 使用二分法进行写 -> sqrt() 函数\n",
    "        x = self.x\n",
    "        if x < 0:\n",
    "            print('请输入非负的整数:')\n",
    "            return F\n",
    "        \n",
    "        start = 0\n",
    "        mid = x // 2\n",
    "        high = x\n",
    "        while start <= high:           #注意判断条件\n",
    "            if mid * mid > x:\n",
    "                high = mid - 1\n",
    "            elif mid * mid < x:\n",
    "                start = mid + 1\n",
    "            else:\n",
    "                return mid\n",
    "            mid = (start + high) // 2\n",
    "        return mid "
   ]
  },
  {
   "cell_type": "code",
   "execution_count": 15,
   "metadata": {},
   "outputs": [
    {
     "name": "stdout",
     "output_type": "stream",
     "text": [
      "请输入非负的整数:\n",
      "False\n",
      "请输入非负的整数:\n",
      "False\n"
     ]
    }
   ],
   "source": [
    "test =  Solution(-1)\n",
    "print(test.my_sqrt1())\n",
    "print(test.my_sqrt2())"
   ]
  },
  {
   "cell_type": "code",
   "execution_count": null,
   "metadata": {},
   "outputs": [],
   "source": []
  }
 ],
 "metadata": {
  "kernelspec": {
   "display_name": "Python 3",
   "language": "python",
   "name": "python3"
  },
  "language_info": {
   "codemirror_mode": {
    "name": "ipython",
    "version": 3
   },
   "file_extension": ".py",
   "mimetype": "text/x-python",
   "name": "python",
   "nbconvert_exporter": "python",
   "pygments_lexer": "ipython3",
   "version": "3.6.7"
  }
 },
 "nbformat": 4,
 "nbformat_minor": 2
}
